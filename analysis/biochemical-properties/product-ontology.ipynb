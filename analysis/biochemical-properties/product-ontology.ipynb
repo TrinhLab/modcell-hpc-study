{
 "cells": [
  {
   "cell_type": "markdown",
   "metadata": {},
   "source": [
    "# Set up"
   ]
  },
  {
   "cell_type": "code",
   "execution_count": 22,
   "metadata": {},
   "outputs": [],
   "source": [
    "# Analyze the biochemical features of the target products and subsets thereof\n",
    "import pandas as pd\n",
    "\n",
    "import cobra as cb\n",
    "\n",
    "import seaborn as sns\n",
    "#import matplotlib.pyplot as plt\n",
    "#from matplotlib.ticker import PercentFormatter\n",
    "\n",
    "sns.set(style='whitegrid',\n",
    "    font='Arial', font_scale=1,\n",
    "    rc={'figure.figsize':(4,4)})\n",
    "sns.set_palette('pastel')\n",
    "\n",
    "plt.rcParams[\"figure.figsize\"] = (4,4)\n",
    "\n",
    "%matplotlib inline"
   ]
  },
  {
   "cell_type": "markdown",
   "metadata": {},
   "source": [
    "# Anaerobic products"
   ]
  },
  {
   "cell_type": "code",
   "execution_count": 23,
   "metadata": {},
   "outputs": [],
   "source": [
    "df = pd.read_csv('../../cases/ecoli-native-matlab/input/metabolite_table.csv')\n",
    "model = cb.io.load_json_model('../../cases/ecoli-native-matlab/input/parent-model-generation/iML1515.json')"
   ]
  },
  {
   "cell_type": "code",
   "execution_count": 24,
   "metadata": {},
   "outputs": [
    {
     "data": {
      "text/plain": [
       "'Glycolysis/Gluconeogenesis'"
      ]
     },
     "execution_count": 24,
     "metadata": {},
     "output_type": "execute_result"
    }
   ],
   "source": [
    "model.reactions.PDH.subsystem"
   ]
  },
  {
   "cell_type": "code",
   "execution_count": 26,
   "metadata": {},
   "outputs": [],
   "source": [
    "# Add sink reaction for each product\n",
    "with model:\n",
    "    metabolite=model.metabolites.get_by_id('pyr_c')\n",
    "    rid='targetr'\n",
    "    model.add_boundary(metabolite, type=\"demand\", reaction_id='targetr', lb=0, ub=1000)\n",
    "    model.objective=rid\n",
    "    model.optimize()\n",
    "    sdf = metabolite.summary()"
   ]
  },
  {
   "cell_type": "code",
   "execution_count": 32,
   "metadata": {},
   "outputs": [
    {
     "ename": "AttributeError",
     "evalue": "'MetaboliteSummary' object has no attribute 'A'",
     "output_type": "error",
     "traceback": [
      "\u001b[0;31m---------------------------------------------------------------------------\u001b[0m",
      "\u001b[0;31mAttributeError\u001b[0m                            Traceback (most recent call last)",
      "\u001b[0;32m<ipython-input-32-31975855027a>\u001b[0m in \u001b[0;36m<module>\u001b[0;34m\u001b[0m\n\u001b[0;32m----> 1\u001b[0;31m \u001b[0msdf\u001b[0m\u001b[0;34m.\u001b[0m\u001b[0mA\u001b[0m\u001b[0;34m\u001b[0m\u001b[0;34m\u001b[0m\u001b[0m\n\u001b[0m",
      "\u001b[0;31mAttributeError\u001b[0m: 'MetaboliteSummary' object has no attribute 'A'"
     ]
    }
   ],
   "source": [
    "sdf.A"
   ]
  },
  {
   "cell_type": "markdown",
   "metadata": {},
   "source": [
    "Need to adjust metabolite summary to extract the info:\n",
    "https://cobrapy.readthedocs.io/en/latest/_modules/cobra/core/metabolite.html#Metabolite.summary\n",
    "Also multiple reactions being able to produce a metabolite does not make the problem well defined. Taking the producing reaction with the highest flux depends on the flux distribution"
   ]
  },
  {
   "cell_type": "code",
   "execution_count": null,
   "metadata": {},
   "outputs": [],
   "source": []
  }
 ],
 "metadata": {
  "kernelspec": {
   "display_name": "modcell-analysis",
   "language": "python",
   "name": "modcell-analysis"
  },
  "language_info": {
   "codemirror_mode": {
    "name": "ipython",
    "version": 3
   },
   "file_extension": ".py",
   "mimetype": "text/x-python",
   "name": "python",
   "nbconvert_exporter": "python",
   "pygments_lexer": "ipython3",
   "version": "3.8.1"
  }
 },
 "nbformat": 4,
 "nbformat_minor": 4
}
