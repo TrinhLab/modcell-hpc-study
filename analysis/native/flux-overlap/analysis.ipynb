{
 "cells": [
  {
   "cell_type": "code",
   "execution_count": 11,
   "metadata": {},
   "outputs": [],
   "source": [
    "# Analyze the biochemical features of the target products and subsets thereof\n",
    "import pandas as pd\n",
    "import re\n",
    "import matplotlib.pyplot as plt\n",
    "%matplotlib inline\n",
    "\n",
    "import seaborn as sns\n",
    "\n",
    "sns.set(style='whitegrid',\n",
    "    font='Arial', font_scale=1,\n",
    "    rc={'figure.figsize':(4,4)})\n",
    "sns.set_palette('pastel')\n"
   ]
  },
  {
   "cell_type": "code",
   "execution_count": 2,
   "metadata": {},
   "outputs": [
    {
     "data": {
      "text/html": [
       "<div>\n",
       "<style scoped>\n",
       "    .dataframe tbody tr th:only-of-type {\n",
       "        vertical-align: middle;\n",
       "    }\n",
       "\n",
       "    .dataframe tbody tr th {\n",
       "        vertical-align: top;\n",
       "    }\n",
       "\n",
       "    .dataframe thead th {\n",
       "        text-align: right;\n",
       "    }\n",
       "</style>\n",
       "<table border=\"1\" class=\"dataframe\">\n",
       "  <thead>\n",
       "    <tr style=\"text-align: right;\">\n",
       "      <th></th>\n",
       "      <th>Reaction_ID</th>\n",
       "      <th>Reaction_name</th>\n",
       "      <th>Reaction_formula</th>\n",
       "      <th>design_121</th>\n",
       "      <th>design_124</th>\n",
       "      <th>design_25</th>\n",
       "      <th>Jaccard</th>\n",
       "    </tr>\n",
       "  </thead>\n",
       "  <tbody>\n",
       "    <tr>\n",
       "      <th>0</th>\n",
       "      <td>TKT1</td>\n",
       "      <td>Transketolase</td>\n",
       "      <td>r5p_c + xu5p__D_c  &lt;=&gt; g3p_c + s7p_c</td>\n",
       "      <td>-4.63 / 9.26</td>\n",
       "      <td>-4.63 / 9.26</td>\n",
       "      <td>0.00 / 0.00</td>\n",
       "      <td>0.0</td>\n",
       "    </tr>\n",
       "    <tr>\n",
       "      <th>1</th>\n",
       "      <td>ALCD2x</td>\n",
       "      <td>Alcohol dehydrogenase (ethanol)</td>\n",
       "      <td>nad_c + etoh_c  &lt;=&gt; h_c + acald_c + nadh_c</td>\n",
       "      <td>-30.00 / 0.00</td>\n",
       "      <td>0.00 / 0.00</td>\n",
       "      <td>0.00 / 0.00</td>\n",
       "      <td>0.0</td>\n",
       "    </tr>\n",
       "    <tr>\n",
       "      <th>2</th>\n",
       "      <td>USHD</td>\n",
       "      <td>UDP-sugar hydrolase</td>\n",
       "      <td>u23ga_c + h2o_c  -&gt; 2 h_c + ump_c + lipidX_c</td>\n",
       "      <td>0.00 / 0.00</td>\n",
       "      <td>0.00 / 0.00</td>\n",
       "      <td>0.00 / 1.59</td>\n",
       "      <td>0.0</td>\n",
       "    </tr>\n",
       "    <tr>\n",
       "      <th>3</th>\n",
       "      <td>FUM</td>\n",
       "      <td>Fumarase</td>\n",
       "      <td>fum_c + h2o_c  &lt;=&gt; mal__L_c</td>\n",
       "      <td>0.00 / 0.00</td>\n",
       "      <td>-23.56 / 21.51</td>\n",
       "      <td>-25.23 / 56.59</td>\n",
       "      <td>0.0</td>\n",
       "    </tr>\n",
       "    <tr>\n",
       "      <th>4</th>\n",
       "      <td>ETOHtex</td>\n",
       "      <td>Ethanol transport via diffusion (extracellular...</td>\n",
       "      <td>etoh_e  &lt;=&gt; etoh_p</td>\n",
       "      <td>-30.00 / 0.00</td>\n",
       "      <td>0.00 / 0.00</td>\n",
       "      <td>0.00 / 0.00</td>\n",
       "      <td>0.0</td>\n",
       "    </tr>\n",
       "  </tbody>\n",
       "</table>\n",
       "</div>"
      ],
      "text/plain": [
       "  Reaction_ID                                      Reaction_name  \\\n",
       "0        TKT1                                      Transketolase   \n",
       "1      ALCD2x                    Alcohol dehydrogenase (ethanol)   \n",
       "2        USHD                                UDP-sugar hydrolase   \n",
       "3         FUM                                           Fumarase   \n",
       "4     ETOHtex  Ethanol transport via diffusion (extracellular...   \n",
       "\n",
       "                                Reaction_formula     design_121  \\\n",
       "0          r5p_c + xu5p__D_c  <=> g3p_c + s7p_c    -4.63 / 9.26   \n",
       "1    nad_c + etoh_c  <=> h_c + acald_c + nadh_c   -30.00 / 0.00   \n",
       "2  u23ga_c + h2o_c  -> 2 h_c + ump_c + lipidX_c     0.00 / 0.00   \n",
       "3                   fum_c + h2o_c  <=> mal__L_c     0.00 / 0.00   \n",
       "4                            etoh_e  <=> etoh_p   -30.00 / 0.00   \n",
       "\n",
       "       design_124       design_25  Jaccard  \n",
       "0    -4.63 / 9.26     0.00 / 0.00      0.0  \n",
       "1     0.00 / 0.00     0.00 / 0.00      0.0  \n",
       "2     0.00 / 0.00     0.00 / 1.59      0.0  \n",
       "3  -23.56 / 21.51  -25.23 / 56.59      0.0  \n",
       "4     0.00 / 0.00     0.00 / 0.00      0.0  "
      ]
     },
     "execution_count": 2,
     "metadata": {},
     "output_type": "execute_result"
    }
   ],
   "source": [
    "df = pd.read_csv('./results.tsv', delimiter='\\t')\n",
    "df.head()"
   ]
  },
  {
   "cell_type": "code",
   "execution_count": 12,
   "metadata": {},
   "outputs": [
    {
     "data": {
      "image/png": "[encoded data removed]",
      "text/plain": [
       "<Figure size 288x288 with 1 Axes>"
      ]
     },
     "metadata": {},
     "output_type": "display_data"
    }
   ],
   "source": [
    "ax = df['Jaccard'].plot.hist()\n",
    "ax.set_yscale('log')\n",
    "ax.grid(axis='x') # TODO: Add dashed lines for minor\n",
    "plt.savefig('jaccard-dist.svgz')"
   ]
  },
  {
   "cell_type": "code",
   "execution_count": 22,
   "metadata": {},
   "outputs": [
    {
     "data": {
      "text/plain": [
       "2712"
      ]
     },
     "execution_count": 22,
     "metadata": {},
     "output_type": "execute_result"
    }
   ],
   "source": [
    "df.shape[0]"
   ]
  },
  {
   "cell_type": "code",
   "execution_count": 27,
   "metadata": {},
   "outputs": [
    {
     "data": {
      "text/plain": [
       "0.056784660766961655"
      ]
     },
     "execution_count": 27,
     "metadata": {},
     "output_type": "execute_result"
    }
   ],
   "source": [
    "sum(df['Jaccard'] <= 0.8)/df.shape[0]"
   ]
  },
  {
   "cell_type": "code",
   "execution_count": null,
   "metadata": {},
   "outputs": [],
   "source": []
  }
 ],
 "metadata": {
  "kernelspec": {
   "display_name": "Python 3",
   "language": "python",
   "name": "python3"
  },
  "language_info": {
   "codemirror_mode": {
    "name": "ipython",
    "version": 3
   },
   "file_extension": ".py",
   "mimetype": "text/x-python",
   "name": "python",
   "nbconvert_exporter": "python",
   "pygments_lexer": "ipython3",
   "version": "3.8.0"
  }
 },
 "nbformat": 4,
 "nbformat_minor": 4
}
