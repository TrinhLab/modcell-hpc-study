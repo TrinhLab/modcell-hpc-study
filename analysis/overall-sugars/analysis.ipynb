{
 "cells": [
  {
   "cell_type": "markdown",
   "metadata": {},
   "source": [
    " # Setup"
   ]
  },
  {
   "cell_type": "code",
   "execution_count": 1,
   "metadata": {},
   "outputs": [],
   "source": [
    "import pandas as pd\n",
    "import numpy as np\n",
    "# plotting\n",
    "import matplotlib.pyplot as plt\n",
    "import seaborn as sns\n",
    "\n",
    "sns.set(style='ticks',\n",
    "    font='Arial', font_scale=1,\n",
    "    rc={'figure.figsize':(4,4)})\n",
    "sns.set_palette('pastel')\n",
    "\n",
    "plt.rcParams[\"figure.figsize\"] = (4,4)\n",
    "#  (extra)\n",
    "params = {'legend.fontsize': 'x-large',\n",
    "          'figure.figsize': (4, 4),\n",
    "         'axes.labelsize': 'x-large',\n",
    "         'axes.titlesize':'x-large',\n",
    "         'xtick.labelsize':'x-large',\n",
    "         'ytick.labelsize':'x-large'}\n",
    "plt.rcParams.update(params)\n",
    "\n",
    "%matplotlib inline\n",
    "\n",
    "ANALYSIS_PATH='/home/sg/wrk/s/matlab/modcell-hpc-study/analysis'"
   ]
  },
  {
   "cell_type": "code",
   "execution_count": 2,
   "metadata": {},
   "outputs": [],
   "source": [
    "# Utility functions\n",
    "def write_table(name, dataframe,index=False):\n",
    "    pd.set_option('display.max_colwidth', -1) # Avoid truncating strings\n",
    "    with open(name, 'w') as tf:\n",
    "        tf.write(dataframe.to_latex(index=index).replace('-->',r'$\\rightarrow$').replace('<==>',r'$\\leftrightarrow$'))"
   ]
  },
  {
   "cell_type": "markdown",
   "metadata": {},
   "source": [
    "# Table of overall properties"
   ]
  },
  {
   "cell_type": "code",
   "execution_count": 3,
   "metadata": {},
   "outputs": [
    {
     "data": {
      "text/html": [
       "<div>\n",
       "<style scoped>\n",
       "    .dataframe tbody tr th:only-of-type {\n",
       "        vertical-align: middle;\n",
       "    }\n",
       "\n",
       "    .dataframe tbody tr th {\n",
       "        vertical-align: top;\n",
       "    }\n",
       "\n",
       "    .dataframe thead th {\n",
       "        text-align: right;\n",
       "    }\n",
       "</style>\n",
       "<table border=\"1\" class=\"dataframe\">\n",
       "  <thead>\n",
       "    <tr style=\"text-align: right;\">\n",
       "      <th></th>\n",
       "      <th>Parameters</th>\n",
       "      <th>Carbon source</th>\n",
       "      <th>Compatible products</th>\n",
       "      <th>Minimal cover size</th>\n",
       "    </tr>\n",
       "  </thead>\n",
       "  <tbody>\n",
       "    <tr>\n",
       "      <th>0</th>\n",
       "      <td>a10_b2</td>\n",
       "      <td>arabinose</td>\n",
       "      <td>-1</td>\n",
       "      <td>3</td>\n",
       "    </tr>\n",
       "    <tr>\n",
       "      <th>1</th>\n",
       "      <td>a10_b2</td>\n",
       "      <td>galactose</td>\n",
       "      <td>-1</td>\n",
       "      <td>6</td>\n",
       "    </tr>\n",
       "    <tr>\n",
       "      <th>2</th>\n",
       "      <td>a10_b2</td>\n",
       "      <td>mannose</td>\n",
       "      <td>-1</td>\n",
       "      <td>5</td>\n",
       "    </tr>\n",
       "    <tr>\n",
       "      <th>3</th>\n",
       "      <td>a10_b2</td>\n",
       "      <td>xylose</td>\n",
       "      <td>-1</td>\n",
       "      <td>4</td>\n",
       "    </tr>\n",
       "    <tr>\n",
       "      <th>4</th>\n",
       "      <td>a10_b2</td>\n",
       "      <td>glucose</td>\n",
       "      <td>-1</td>\n",
       "      <td>7</td>\n",
       "    </tr>\n",
       "  </tbody>\n",
       "</table>\n",
       "</div>"
      ],
      "text/plain": [
       "  Parameters Carbon source  Compatible products  Minimal cover size\n",
       "0     a10_b2     arabinose                   -1                   3\n",
       "1     a10_b2     galactose                   -1                   6\n",
       "2     a10_b2       mannose                   -1                   5\n",
       "3     a10_b2        xylose                   -1                   4\n",
       "4     a10_b2       glucose                   -1                   7"
      ]
     },
     "execution_count": 3,
     "metadata": {},
     "output_type": "execute_result"
    }
   ],
   "source": [
    "properties = pd.read_csv('./properties.tsv', delimiter='\\t')\n",
    "properties"
   ]
  },
  {
   "cell_type": "code",
   "execution_count": 4,
   "metadata": {},
   "outputs": [
    {
     "data": {
      "text/html": [
       "<div>\n",
       "<style scoped>\n",
       "    .dataframe tbody tr th:only-of-type {\n",
       "        vertical-align: middle;\n",
       "    }\n",
       "\n",
       "    .dataframe tbody tr th {\n",
       "        vertical-align: top;\n",
       "    }\n",
       "\n",
       "    .dataframe thead th {\n",
       "        text-align: right;\n",
       "    }\n",
       "</style>\n",
       "<table border=\"1\" class=\"dataframe\">\n",
       "  <thead>\n",
       "    <tr style=\"text-align: right;\">\n",
       "      <th></th>\n",
       "      <th>Parameters</th>\n",
       "      <th>Carbon source</th>\n",
       "      <th>Compatible products</th>\n",
       "      <th>Minimal cover size</th>\n",
       "    </tr>\n",
       "  </thead>\n",
       "  <tbody>\n",
       "    <tr>\n",
       "      <th>0</th>\n",
       "      <td>a10_b2</td>\n",
       "      <td>arabinose</td>\n",
       "      <td>64</td>\n",
       "      <td>3</td>\n",
       "    </tr>\n",
       "    <tr>\n",
       "      <th>1</th>\n",
       "      <td>a10_b2</td>\n",
       "      <td>galactose</td>\n",
       "      <td>79</td>\n",
       "      <td>6</td>\n",
       "    </tr>\n",
       "    <tr>\n",
       "      <th>2</th>\n",
       "      <td>a10_b2</td>\n",
       "      <td>mannose</td>\n",
       "      <td>96</td>\n",
       "      <td>5</td>\n",
       "    </tr>\n",
       "    <tr>\n",
       "      <th>3</th>\n",
       "      <td>a10_b2</td>\n",
       "      <td>xylose</td>\n",
       "      <td>70</td>\n",
       "      <td>4</td>\n",
       "    </tr>\n",
       "    <tr>\n",
       "      <th>4</th>\n",
       "      <td>a10_b2</td>\n",
       "      <td>glucose</td>\n",
       "      <td>93</td>\n",
       "      <td>7</td>\n",
       "    </tr>\n",
       "  </tbody>\n",
       "</table>\n",
       "</div>"
      ],
      "text/plain": [
       "  Parameters Carbon source  Compatible products  Minimal cover size\n",
       "0  a10_b2     arabinose     64                   3                 \n",
       "1  a10_b2     galactose     79                   6                 \n",
       "2  a10_b2     mannose       96                   5                 \n",
       "3  a10_b2     xylose        70                   4                 \n",
       "4  a10_b2     glucose       93                   7                 "
      ]
     },
     "execution_count": 4,
     "metadata": {},
     "output_type": "execute_result"
    }
   ],
   "source": [
    "# Determine Total compatible products\n",
    "compatibility_t = .5\n",
    "\n",
    "def get_compatible(pf_path):\n",
    "    pf = pd.read_csv(pf_path)\n",
    "    iscompat = pf[pf.columns[pf.columns.str.contains(\"objective\")]] >= compatibility_t\n",
    "    anycomp = iscompat.any()\n",
    "    return [x.replace('(objective)','') for x in \n",
    "                        list(anycomp[anycomp==True].index)]\n",
    "\n",
    "# Sugars\n",
    "for sugar in ['arabinose', 'galactose', 'mannose', 'xylose']:\n",
    "    params='a10_b2'\n",
    "    pf_path = f'{ANALYSIS_PATH}/native-{sugar}/results/{params}.csv'\n",
    "    properties.loc[properties['Carbon source'] == sugar, \n",
    "                   'Compatible products'] = len(get_compatible(pf_path))\n",
    "# Glucose\n",
    "pf_path = f'{ANALYSIS_PATH}/native/results/{params}.csv'\n",
    "properties.loc[properties['Carbon source'] == 'glucose', \n",
    "                   'Compatible products'] = len(get_compatible(pf_path))\n",
    "\n",
    "\n",
    "write_table('overall_properties.tex', properties)    \n",
    "properties.head()"
   ]
  },
  {
   "cell_type": "markdown",
   "metadata": {},
   "source": [
    "formulask\n",
    "Galactose  C6H12O6\n",
    "mannose C6H12O6\n",
    "arabinose  C5H10O5\n"
   ]
  },
  {
   "cell_type": "markdown",
   "metadata": {},
   "source": [
    "# Deletion frequency table"
   ]
  },
  {
   "cell_type": "code",
   "execution_count": 5,
   "metadata": {},
   "outputs": [],
   "source": [
    "params='a10_b2'\n",
    "sugars = ['arabinose', 'galactose', 'mannose', 'xylose', 'glucose']\n",
    "\n",
    "table_paths = {}\n",
    "dfs = []\n",
    "for sugar in sugars:\n",
    "    if sugar == 'glucose':\n",
    "        table_paths['glucose'] = f'{ANALYSIS_PATH}/native/{params}_topdeletions.csv'\n",
    "    else:\n",
    "        table_paths[sugar] = f'{ANALYSIS_PATH}/native-{sugar}/results/{params}_topdeletions.csv'\n",
    "    df = pd.read_csv(table_paths[sugar], index_col='id')\n",
    "    #df.drop(['name','formula'], axis=1, inplace=True)\n",
    "    df.rename({'counts': f'counts_{sugar}'}, axis=1, inplace=True)\n",
    "    dfs.append(df)\n"
   ]
  },
  {
   "cell_type": "code",
   "execution_count": 6,
   "metadata": {},
   "outputs": [
    {
     "name": "stderr",
     "output_type": "stream",
     "text": [
      "/home/sg/.envs/modcell-analysis/lib/python3.8/site-packages/pandas/core/frame.py:4110: SettingWithCopyWarning: \n",
      "A value is trying to be set on a copy of a slice from a DataFrame\n",
      "\n",
      "See the caveats in the documentation: http://pandas.pydata.org/pandas-docs/stable/user_guide/indexing.html#returning-a-view-versus-a-copy\n",
      "  return super().drop(\n",
      "/home/sg/.envs/modcell-analysis/lib/python3.8/site-packages/pandas/core/frame.py:4252: SettingWithCopyWarning: \n",
      "A value is trying to be set on a copy of a slice from a DataFrame\n",
      "\n",
      "See the caveats in the documentation: http://pandas.pydata.org/pandas-docs/stable/user_guide/indexing.html#returning-a-view-versus-a-copy\n",
      "  return super().fillna(\n"
     ]
    },
    {
     "data": {
      "text/html": [
       "<div>\n",
       "<style scoped>\n",
       "    .dataframe tbody tr th:only-of-type {\n",
       "        vertical-align: middle;\n",
       "    }\n",
       "\n",
       "    .dataframe tbody tr th {\n",
       "        vertical-align: top;\n",
       "    }\n",
       "\n",
       "    .dataframe thead th {\n",
       "        text-align: right;\n",
       "    }\n",
       "</style>\n",
       "<table border=\"1\" class=\"dataframe\">\n",
       "  <thead>\n",
       "    <tr style=\"text-align: right;\">\n",
       "      <th></th>\n",
       "      <th>name</th>\n",
       "      <th>formula</th>\n",
       "      <th>counts_arabinose</th>\n",
       "      <th>counts_galactose</th>\n",
       "      <th>counts_mannose</th>\n",
       "      <th>counts_xylose</th>\n",
       "      <th>counts_glucose</th>\n",
       "    </tr>\n",
       "  </thead>\n",
       "  <tbody>\n",
       "    <tr>\n",
       "      <th>ALCD2x</th>\n",
       "      <td>Alcohol dehydrogenase (ethanol)</td>\n",
       "      <td>etoh_c + nad_c &lt;=&gt; acald_c + h_c + nadh_c</td>\n",
       "      <td>83</td>\n",
       "      <td>83</td>\n",
       "      <td>74</td>\n",
       "      <td>58</td>\n",
       "      <td>91</td>\n",
       "    </tr>\n",
       "    <tr>\n",
       "      <th>PPC</th>\n",
       "      <td>Phosphoenolpyruvate carboxylase</td>\n",
       "      <td>co2_c + h2o_c + pep_c --&gt; h_c + oaa_c + pi_c</td>\n",
       "      <td>56</td>\n",
       "      <td>60</td>\n",
       "      <td>65</td>\n",
       "      <td>67</td>\n",
       "      <td>69</td>\n",
       "    </tr>\n",
       "    <tr>\n",
       "      <th>TKT2</th>\n",
       "      <td>Transketolase</td>\n",
       "      <td>e4p_c + xu5p__D_c &lt;=&gt; f6p_c + g3p_c</td>\n",
       "      <td>0</td>\n",
       "      <td>54</td>\n",
       "      <td>57</td>\n",
       "      <td>0</td>\n",
       "      <td>46</td>\n",
       "    </tr>\n",
       "    <tr>\n",
       "      <th>FLDR2</th>\n",
       "      <td>Flavodoxin reductase (NADPH)</td>\n",
       "      <td>2.0 flxso_c + nadph_c --&gt; 2.0 flxr_c + h_c + nadp_c</td>\n",
       "      <td>64</td>\n",
       "      <td>43</td>\n",
       "      <td>43</td>\n",
       "      <td>22</td>\n",
       "      <td>48</td>\n",
       "    </tr>\n",
       "    <tr>\n",
       "      <th>ACALD</th>\n",
       "      <td>Acetaldehyde dehydrogenase (acetylating)</td>\n",
       "      <td>acald_c + coa_c + nad_c &lt;=&gt; accoa_c + h_c + nadh_c</td>\n",
       "      <td>60</td>\n",
       "      <td>13</td>\n",
       "      <td>23</td>\n",
       "      <td>64</td>\n",
       "      <td>16</td>\n",
       "    </tr>\n",
       "  </tbody>\n",
       "</table>\n",
       "</div>"
      ],
      "text/plain": [
       "                                            name  \\\n",
       "ALCD2x  Alcohol dehydrogenase (ethanol)            \n",
       "PPC     Phosphoenolpyruvate carboxylase            \n",
       "TKT2    Transketolase                              \n",
       "FLDR2   Flavodoxin reductase (NADPH)               \n",
       "ACALD   Acetaldehyde dehydrogenase (acetylating)   \n",
       "\n",
       "                                                    formula  counts_arabinose  \\\n",
       "ALCD2x  etoh_c + nad_c <=> acald_c + h_c + nadh_c           83                  \n",
       "PPC     co2_c + h2o_c + pep_c --> h_c + oaa_c + pi_c        56                  \n",
       "TKT2    e4p_c + xu5p__D_c <=> f6p_c + g3p_c                 0                   \n",
       "FLDR2   2.0 flxso_c + nadph_c --> 2.0 flxr_c + h_c + nadp_c 64                  \n",
       "ACALD   acald_c + coa_c + nad_c <=> accoa_c + h_c + nadh_c  60                  \n",
       "\n",
       "        counts_galactose  counts_mannose  counts_xylose  counts_glucose  \n",
       "ALCD2x 83                74              58             91               \n",
       "PPC    60                65              67             69               \n",
       "TKT2   54                57              0              46               \n",
       "FLDR2  43                43              22             48               \n",
       "ACALD  13                23              64             16               "
      ]
     },
     "execution_count": 6,
     "metadata": {},
     "output_type": "execute_result"
    }
   ],
   "source": [
    "ft = pd.concat(dfs, axis=1,  sort=False)\n",
    "ft.drop_duplicates(subset=None, keep=\"first\", inplace=True)\n",
    "\n",
    "ft['counts_average'] = ft[ [f'counts_{sugar}' for sugar in sugars] ].mean(axis=1).round(2)\n",
    "ft.sort_values(by='counts_average', axis=0, ascending=False, inplace=True)\n",
    "                      \n",
    "top = ft.iloc[0:19,:]\n",
    "\n",
    "# Consolidate formulas and names\n",
    "def get_item(row):\n",
    "    for item in row.items():\n",
    "        if isinstance(item[1], str):\n",
    "            return item[1]\n",
    "        \n",
    "names = top['name'].apply(get_item, axis=1)\n",
    "formulas =  top['formula'].apply(get_item, axis=1)\n",
    "\n",
    "top.drop(['formula','name'], axis=1, inplace=True)\n",
    "\n",
    "top.insert(0, 'formula', formulas)\n",
    "top.insert(0, 'name', names)\n",
    "\n",
    "top.fillna(0, inplace=True)\n",
    "\n",
    "#top = top.round(0)\n",
    "top.drop(['counts_average'], axis=1, inplace=True)\n",
    "\n",
    "pd.options.display.float_format = '{:.0f}'.format\n",
    "\n",
    "# write\n",
    "write_table('topdeletions.tex',top, index=True)\n",
    "        \n",
    "top.head()"
   ]
  },
  {
   "cell_type": "markdown",
   "metadata": {},
   "source": [
    "### Heatmap visualization\n",
    "What are most characteristic deletions for certain carbon sources?\n",
    "Could also look at subsystems and compare them among carbon sources"
   ]
  },
  {
   "cell_type": "code",
   "execution_count": 7,
   "metadata": {},
   "outputs": [
    {
     "data": {
      "image/png": "[encoded data removed]",
      "text/plain": [
       "<Figure size 252x576 with 4 Axes>"
      ]
     },
     "metadata": {
      "needs_background": "light"
     },
     "output_type": "display_data"
    }
   ],
   "source": [
    "hm_top = top.drop(['name', 'formula'], axis=1)\n",
    "hm_top.columns = hm_top.columns.str.lstrip('counts_')\n",
    "hm_top.columns = hm_top.columns.str.title()\n",
    "\n",
    "g = sns.clustermap(hm_top,\n",
    "                       cmap=\"Blues\",linewidths=.75, figsize=tuple([3.5,8]),\n",
    "                  cbar_kws={\"label\": \"Counts(%)\"}, annot=True)#,\n",
    "                       #cbar_kws={\"label\": \"Objective value\", \"ticks\":[0,0.3,0.6,0.9]})\n",
    "#plt.setp(g.ax_heatmap.get_yticklabels(), rotation=0);\n",
    "#plt.setp(g.ax_heatmap.get_xticklabels(), rotation=90);\n",
    "\n",
    "    # Use full name\n",
    "#g.ax_heatmap.set_yticklabels(g.ax_heatmap.get_yticklabels())\n",
    "\n",
    "    # save\n",
    "g.savefig('deletion-frequencey-hm.svgz', format='svgz')\n"
   ]
  },
  {
   "cell_type": "markdown",
   "metadata": {},
   "source": [
    "# Venn diagram of uniquely compatible products"
   ]
  },
  {
   "cell_type": "code",
   "execution_count": 8,
   "metadata": {},
   "outputs": [],
   "source": [
    "compat_sets = {}\n",
    "# Sugars\n",
    "for sugar in ['arabinose', 'galactose', 'mannose', 'xylose']:\n",
    "    params='a10_b2'\n",
    "    pf_path = f'{ANALYSIS_PATH}/native-{sugar}/results/{params}.csv'\n",
    "    compat_sets[sugar] = set(get_compatible(pf_path))\n",
    "# Glucose\n",
    "pf_path = f'{ANALYSIS_PATH}/native/results/{params}.csv'\n",
    "compat_sets['glucose'] = set(get_compatible(pf_path))\n"
   ]
  },
  {
   "cell_type": "code",
   "execution_count": 9,
   "metadata": {},
   "outputs": [],
   "source": [
    "from matplotlib_venn import venn3, venn2"
   ]
  },
  {
   "cell_type": "code",
   "execution_count": 10,
   "metadata": {},
   "outputs": [
    {
     "data": {
      "image/png": "[encoded data removed]",
      "text/plain": [
       "<Figure size 432x288 with 1 Axes>"
      ]
     },
     "metadata": {},
     "output_type": "display_data"
    }
   ],
   "source": [
    "# Glucose and pentoses\n",
    "subsets = ['arabinose','xylose','glucose']\n",
    "vd = venn3([compat_sets[subset] for subset in subsets], set_labels=subsets)"
   ]
  },
  {
   "cell_type": "code",
   "execution_count": 11,
   "metadata": {},
   "outputs": [
    {
     "data": {
      "image/png": "[encoded data removed]",
      "text/plain": [
       "<Figure size 432x288 with 1 Axes>"
      ]
     },
     "metadata": {},
     "output_type": "display_data"
    }
   ],
   "source": [
    "# Hexoses without glucose\n",
    "subsets = ['arabinose','galactose','mannose']\n",
    "vd = venn3([compat_sets[subset] for subset in subsets], set_labels=subsets)"
   ]
  },
  {
   "cell_type": "code",
   "execution_count": 12,
   "metadata": {},
   "outputs": [
    {
     "name": "stderr",
     "output_type": "stream",
     "text": [
      "/home/sg/.envs/modcell-analysis/lib/python3.8/site-packages/matplotlib_venn/_venn3.py:117: UserWarning: Bad circle positioning\n",
      "  warnings.warn(\"Bad circle positioning\")\n"
     ]
    },
    {
     "data": {
      "image/png": "[encoded data removed]",
      "text/plain": [
       "<Figure size 432x288 with 1 Axes>"
      ]
     },
     "metadata": {},
     "output_type": "display_data"
    }
   ],
   "source": [
    "# Top 3\n",
    "subsets = ['mannose','glucose','galactose']\n",
    "vd = venn3([compat_sets[subset] for subset in subsets], set_labels=subsets)"
   ]
  },
  {
   "cell_type": "code",
   "execution_count": 13,
   "metadata": {},
   "outputs": [
    {
     "data": {
      "image/png": "[encoded data removed]",
      "text/plain": [
       "<Figure size 432x288 with 1 Axes>"
      ]
     },
     "metadata": {},
     "output_type": "display_data"
    }
   ],
   "source": [
    "# Glucose vs xylose\n",
    "subsets = ['xylose','glucose']\n",
    "vd = venn2([compat_sets[subset] for subset in subsets], set_labels=subsets)"
   ]
  },
  {
   "cell_type": "code",
   "execution_count": 24,
   "metadata": {},
   "outputs": [
    {
     "name": "stdout",
     "output_type": "stream",
     "text": [
      "{'pe120', 'ps141', '2odec11eg3p', 'lipidX', '2ippm', '1agpe180', '2agpg160', 'ps120', '4mop', 'pe141', 'apg120', '2agpg180', '1agpg160', '1agpg181', '2tdecg3p', '3mob', '3c2hmp', '2hdecg3p', '2agpg181', 'dha', '1agpg180', '2agpe180', '2odecg3p', '3c3hmp', '23dhmb', '2hdec9eg3p'}\n"
     ]
    },
    {
     "data": {
      "image/png": "[encoded data removed]",
      "text/plain": [
       "<Figure size 432x288 with 1 Axes>"
      ]
     },
     "metadata": {},
     "output_type": "display_data"
    }
   ],
   "source": [
    "# Hexoses vs pentoses\n",
    "hexoses = set.union(*[compat_sets[subset] for subset in\n",
    "                     ['galactose','mannose','glucose']])\n",
    "pentoses = set.union(*[compat_sets[subset] for subset in \n",
    "                       ['xylose','arabinose']])\n",
    "\n",
    "vd = venn2([hexoses,pentoses], set_labels=['hexoses','pentoses'])\n",
    "plt.savefig('sugars-compat-venn.svgz')\n",
    "\n",
    "hexoses_only = hexoses.difference(pentoses)\n",
    "print(hexoses_only)"
   ]
  },
  {
   "cell_type": "code",
   "execution_count": 15,
   "metadata": {},
   "outputs": [],
   "source": [
    "# Write out to analyze biochemistry\n",
    "import pickle\n",
    "\n",
    "with open('../biochemical-properties/products.pickle', 'wb') as fp:\n",
    "    pickle.dump([hexoses,pentoses], fp)\n"
   ]
  },
  {
   "cell_type": "markdown",
   "metadata": {},
   "source": [
    "### Revisit deletion frequency for hexose-only products"
   ]
  },
  {
   "cell_type": "code",
   "execution_count": 83,
   "metadata": {},
   "outputs": [],
   "source": [
    "from collections import Counter\n",
    "\n",
    "params='a10_b2'\n",
    "#sugars = ['arabinose', 'galactose', 'mannose', 'xylose', 'glucose']\n",
    "sugars = ['galactose', 'mannose', 'glucose']\n",
    "\n",
    "table_paths = {}\n",
    "counts = {}\n",
    "for sugar in sugars:\n",
    "    if sugar == 'glucose':\n",
    "        table_paths['glucose'] = f'{ANALYSIS_PATH}/native/results/{params}.csv'\n",
    "    else:\n",
    "        table_paths[sugar] = f'{ANALYSIS_PATH}/native-{sugar}/results/{params}.csv'\n",
    "    df = pd.read_csv(table_paths[sugar])\n",
    "    \n",
    "    # Keep only compatible designs:\n",
    "    compat_threshold = 0.5\n",
    "    cdf = df[[f'{pid}(objective)' for pid in hexoses_only]].round(2) >= compat_threshold\n",
    "    compdf = df[cdf.any(axis=1)]\n",
    "    \n",
    "    # Calculate deletion frequency\n",
    "    n_designs = compdf.shape[0]\n",
    "    deletions = []\n",
    "    for x in compdf['Deletion_id'].values.tolist():\n",
    "        deletions.extend(x.split(', ')) \n",
    "    counts[sugar] = {k: (v/n_designs)*100 for k,v in Counter(deletions).items()}\n",
    "   # dfs.append(df)"
   ]
  },
  {
   "cell_type": "code",
   "execution_count": 86,
   "metadata": {},
   "outputs": [
    {
     "data": {
      "text/html": [
       "<div>\n",
       "<style scoped>\n",
       "    .dataframe tbody tr th:only-of-type {\n",
       "        vertical-align: middle;\n",
       "    }\n",
       "\n",
       "    .dataframe tbody tr th {\n",
       "        vertical-align: top;\n",
       "    }\n",
       "\n",
       "    .dataframe thead th {\n",
       "        text-align: right;\n",
       "    }\n",
       "</style>\n",
       "<table border=\"1\" class=\"dataframe\">\n",
       "  <thead>\n",
       "    <tr style=\"text-align: right;\">\n",
       "      <th></th>\n",
       "      <th>galactose</th>\n",
       "      <th>mannose</th>\n",
       "      <th>glucose</th>\n",
       "    </tr>\n",
       "  </thead>\n",
       "  <tbody>\n",
       "    <tr>\n",
       "      <th>LDH_D</th>\n",
       "      <td>100</td>\n",
       "      <td>98</td>\n",
       "      <td>100</td>\n",
       "    </tr>\n",
       "    <tr>\n",
       "      <th>ALCD2x</th>\n",
       "      <td>93</td>\n",
       "      <td>91</td>\n",
       "      <td>100</td>\n",
       "    </tr>\n",
       "    <tr>\n",
       "      <th>PPC</th>\n",
       "      <td>73</td>\n",
       "      <td>53</td>\n",
       "      <td>89</td>\n",
       "    </tr>\n",
       "    <tr>\n",
       "      <th>FLDR2</th>\n",
       "      <td>73</td>\n",
       "      <td>24</td>\n",
       "      <td>68</td>\n",
       "    </tr>\n",
       "    <tr>\n",
       "      <th>TKT2</th>\n",
       "      <td>47</td>\n",
       "      <td>51</td>\n",
       "      <td>60</td>\n",
       "    </tr>\n",
       "    <tr>\n",
       "      <th>4HTHRK</th>\n",
       "      <td>47</td>\n",
       "      <td>15</td>\n",
       "      <td>30</td>\n",
       "    </tr>\n",
       "    <tr>\n",
       "      <th>THD2pp</th>\n",
       "      <td>33</td>\n",
       "      <td>40</td>\n",
       "      <td>18</td>\n",
       "    </tr>\n",
       "    <tr>\n",
       "      <th>LDH_D2</th>\n",
       "      <td>27</td>\n",
       "      <td>0</td>\n",
       "      <td>0</td>\n",
       "    </tr>\n",
       "    <tr>\n",
       "      <th>CBMKr</th>\n",
       "      <td>0</td>\n",
       "      <td>19</td>\n",
       "      <td>31</td>\n",
       "    </tr>\n",
       "    <tr>\n",
       "      <th>GLUDy</th>\n",
       "      <td>0</td>\n",
       "      <td>18</td>\n",
       "      <td>32</td>\n",
       "    </tr>\n",
       "    <tr>\n",
       "      <th>POR5</th>\n",
       "      <td>20</td>\n",
       "      <td>25</td>\n",
       "      <td>28</td>\n",
       "    </tr>\n",
       "    <tr>\n",
       "      <th>TALA</th>\n",
       "      <td>0</td>\n",
       "      <td>0</td>\n",
       "      <td>23</td>\n",
       "    </tr>\n",
       "    <tr>\n",
       "      <th>ACALD</th>\n",
       "      <td>47</td>\n",
       "      <td>13</td>\n",
       "      <td>9</td>\n",
       "    </tr>\n",
       "    <tr>\n",
       "      <th>PPPNDO</th>\n",
       "      <td>0</td>\n",
       "      <td>23</td>\n",
       "      <td>0</td>\n",
       "    </tr>\n",
       "    <tr>\n",
       "      <th>RPE</th>\n",
       "      <td>47</td>\n",
       "      <td>2</td>\n",
       "      <td>16</td>\n",
       "    </tr>\n",
       "    <tr>\n",
       "      <th>PPM</th>\n",
       "      <td>0</td>\n",
       "      <td>0</td>\n",
       "      <td>21</td>\n",
       "    </tr>\n",
       "    <tr>\n",
       "      <th>2DOXG6PP</th>\n",
       "      <td>20</td>\n",
       "      <td>0</td>\n",
       "      <td>0</td>\n",
       "    </tr>\n",
       "    <tr>\n",
       "      <th>NDP7</th>\n",
       "      <td>20</td>\n",
       "      <td>0</td>\n",
       "      <td>0</td>\n",
       "    </tr>\n",
       "    <tr>\n",
       "      <th>ASPabcpp</th>\n",
       "      <td>0</td>\n",
       "      <td>0</td>\n",
       "      <td>19</td>\n",
       "    </tr>\n",
       "  </tbody>\n",
       "</table>\n",
       "</div>"
      ],
      "text/plain": [
       "          galactose  mannose  glucose\n",
       "LDH_D    100        98       100     \n",
       "ALCD2x   93         91       100     \n",
       "PPC      73         53       89      \n",
       "FLDR2    73         24       68      \n",
       "TKT2     47         51       60      \n",
       "4HTHRK   47         15       30      \n",
       "THD2pp   33         40       18      \n",
       "LDH_D2   27         0        0       \n",
       "CBMKr    0          19       31      \n",
       "GLUDy    0          18       32      \n",
       "POR5     20         25       28      \n",
       "TALA     0          0        23      \n",
       "ACALD    47         13       9       \n",
       "PPPNDO   0          23       0       \n",
       "RPE      47         2        16      \n",
       "PPM      0          0        21      \n",
       "2DOXG6PP 20         0        0       \n",
       "NDP7     20         0        0       \n",
       "ASPabcpp 0          0        19      "
      ]
     },
     "execution_count": 86,
     "metadata": {},
     "output_type": "execute_result"
    }
   ],
   "source": [
    "fdf = pd.DataFrame.from_dict(counts)\n",
    "fdf['mean'] = fdf.mean(axis=1)\n",
    "fdf = fdf.sort_values(by='mean',ascending=False)\n",
    "fdf = fdf.drop('mean',axis=1)\n",
    "fdf = fdf.fillna(0)\n",
    "\n",
    "fdf = fdf.iloc[0:19,:]\n",
    "write_table('top_hexose_only.tex',fdf, index=True)\n",
    "fdf.head(20)\n"
   ]
  },
  {
   "cell_type": "code",
   "execution_count": 74,
   "metadata": {},
   "outputs": [
    {
     "data": {
      "text/plain": [
       "0.45045045045045046"
      ]
     },
     "execution_count": 74,
     "metadata": {},
     "output_type": "execute_result"
    }
   ],
   "source": [
    "counts['glucose']['MCITS']"
   ]
  },
  {
   "cell_type": "code",
   "execution_count": 44,
   "metadata": {},
   "outputs": [],
   "source": [
    "from collections import Counter\n"
   ]
  },
  {
   "cell_type": "code",
   "execution_count": 31,
   "metadata": {},
   "outputs": [],
   "source": [
    "comp_designs = df[cdf.any(axis=1)]"
   ]
  },
  {
   "cell_type": "code",
   "execution_count": null,
   "metadata": {},
   "outputs": [],
   "source": []
  }
 ],
 "metadata": {
  "kernelspec": {
   "display_name": "modcell-analysis",
   "language": "python",
   "name": "modcell-analysis"
  },
  "language_info": {
   "codemirror_mode": {
    "name": "ipython",
    "version": 3
   },
   "file_extension": ".py",
   "mimetype": "text/x-python",
   "name": "python",
   "nbconvert_exporter": "python",
   "pygments_lexer": "ipython3",
   "version": "3.8.1"
  }
 },
 "nbformat": 4,
 "nbformat_minor": 4
}
