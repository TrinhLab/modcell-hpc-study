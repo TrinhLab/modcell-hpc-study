{
 "cells": [
  {
   "cell_type": "code",
   "execution_count": 1,
   "metadata": {},
   "outputs": [],
   "source": [
    "import pandas as pd\n",
    "import re\n",
    "from scipy.stats import spearmanr, pearsonr\n",
    "\n",
    "# Figure settings\n",
    "import string\n",
    "import seaborn as sns\n",
    "import matplotlib.pyplot as plt\n",
    "sns.set(style='ticks',\n",
    "    font='Arial', font_scale=1,\n",
    "    rc={'figure.figsize':(4,4)})\n",
    "sns.set_palette('pastel')\n",
    "\n",
    "plt.rcParams[\"figure.figsize\"] = (4,4)\n",
    "\n",
    "%matplotlib inline\n",
    "\n",
    "# Directories\n",
    "ANALYSIS_DIR = '/home/sg/wrk/s/matlab/modcell-hpc-study/analysis'"
   ]
  },
  {
   "cell_type": "code",
   "execution_count": 7,
   "metadata": {},
   "outputs": [
    {
     "name": "stderr",
     "output_type": "stream",
     "text": [
      "/home/sg/.envs/modcell-analysis/lib/python3.8/site-packages/pandas/core/strings.py:1843: UserWarning: This pattern has match groups. To actually get the groups, use str.extract.\n",
      "  return func(self, *args, **kwargs)\n"
     ]
    }
   ],
   "source": [
    "def get_products(df):\n",
    "    products = []\n",
    "    for name in df.columns:\n",
    "        if 'objective' in name:\n",
    "            products.append(name.replace('(objective)',''))\n",
    "    return products\n",
    "\n",
    "\n",
    "# Obtain relevant info for a given case\n",
    "def process_case(pid):\n",
    "\n",
    "    apf = pd.read_csv(f'{ANALYSIS_DIR}/partitions/partition_{pid}_a/results/a5_b1.csv')\n",
    "    bpf = pd.read_csv(f'{ANALYSIS_DIR}/partitions/partition_{pid}_b/results/a5_b1.csv')\n",
    "\n",
    "    aprod = get_products(apf)\n",
    "    bprod = get_products(bpf)\n",
    "\n",
    "    # Load full solutions\n",
    "    afpf = pd.read_csv(f'{ANALYSIS_DIR}/partitions/pf_partition_{pid}_a.csv')\n",
    "    bfpf = pd.read_csv(f'{ANALYSIS_DIR}/partitions/pf_partition_{pid}_b.csv')\n",
    "\n",
    "    # Only keep objectives that were recalculated:\n",
    "    afpf = afpf.loc[:, ~afpf.columns.str.contains('objective_$')]\n",
    "    bfpf = bfpf.loc[:, ~bfpf.columns.str.contains('objective_$')]\n",
    "\n",
    "    ## Convert column names to original:\n",
    "    def col_rename(name):\n",
    "        # Names originally starting with numbers have an x inserted before,\n",
    "        if 'objective' in name:\n",
    "            prodid = re.search('(?:x|z)?(.*)_objective(_calc)?', name).group(1) #TODO: Is it x or z, or both (see safe_product_id method in matlab code)\n",
    "            return f'{prodid}(objective)'\n",
    "        else:\n",
    "            return name\n",
    "\n",
    "    afpf.rename(columns=col_rename, inplace=True)  \n",
    "    bfpf.rename(columns=col_rename, inplace=True)\n",
    "    \n",
    "    # Compute unknown compatibility of each design\n",
    "    compat_t = 0.5\n",
    "\n",
    "    def find_compat(design_df, unknown_prod_id):\n",
    "        odf = design_df[design_df.columns[design_df.columns.str.contains('(objective)')]]\n",
    "        odf.columns = odf.columns.str.replace('\\(objective\\)','')\n",
    "        cdf = odf.round(2) >= compat_t\n",
    "        return cdf[unknown_prod_id].sum(axis=1)\n",
    "\n",
    "    a_uc = find_compat(afpf,bprod)\n",
    "    b_uc = find_compat(bfpf,aprod)\n",
    "    \n",
    "    # Compute known compatibility\n",
    "    a_c = find_compat(afpf,aprod)\n",
    "    b_c = find_compat(bfpf,bprod)\n",
    "    \n",
    "    # Package return:\n",
    "    info = {}\n",
    "    info['a_uc'] = a_uc\n",
    "    info['b_uc'] = b_uc\n",
    "    info['a_c'] = a_c\n",
    "    info['b_c'] = b_c\n",
    "    \n",
    "    info['afpf'] = afpf\n",
    "    info['bfpf'] = bfpf\n",
    "    \n",
    "    return info\n",
    "\n",
    "infos = {case:process_case(case) for case in [1,2,3]}"
   ]
  },
  {
   "cell_type": "markdown",
   "metadata": {},
   "source": [
    "# Analysis ideas\n",
    "\n",
    " The unknown compatibility of a design, is the number of tested unknown products towards which the design is compatible\n",
    "\n",
    "- Plot the distribution of unknown compatibilities for each parittion\n",
    "- Show the top designs with the most unknown compatibility\n",
    "- Interrogate additional patterns such as representative products/ products that tend to enable compatibility\n",
    "- Is known to unknown ratio for each design intersing?\n",
    "\n",
    "#### Find unknown compatibility likelyhood:\n",
    "If product x is compatible in design d, what are the chances that unknown product y is compatible with design d?\n",
    "Take all compatible designs with product x  where product y is unknown and compute the ratio of total designs to the ones where y is compatible.\n",
    "\n",
    "This might not be feasible for all products since the partitions are random"
   ]
  },
  {
   "cell_type": "markdown",
   "metadata": {},
   "source": [
    "## Compatibility distributions"
   ]
  },
  {
   "cell_type": "code",
   "execution_count": 3,
   "metadata": {},
   "outputs": [
    {
     "data": {
      "image/png": "[encoded data removed]",
      "text/plain": [
       "<Figure size 648x432 with 6 Axes>"
      ]
     },
     "metadata": {
      "needs_background": "light"
     },
     "output_type": "display_data"
    }
   ],
   "source": [
    "# In the top part do known compatibility distribution, in the bottom part unknown compatibility? \n",
    "# Do designs with high known compatibility tend to have lower known compatibility?\n",
    "\n",
    "ncols=3\n",
    "nrows=2\n",
    "fig, axs = plt.subplots(nrows=nrows, ncols=ncols, figsize=(3*ncols,3*nrows))\n",
    "ax = axs.flat\n",
    "\n",
    "for i in [1,2,3]:  \n",
    "    cax = ax[i-1]\n",
    "    cax.hist(infos[i]['a_uc'], alpha=.8, label='a')\n",
    "    cax.hist(infos[i]['b_uc'], alpha=.8, label='b')\n",
    "    cax.grid(False)\n",
    "\n",
    "    \n",
    "for i in [1,2,3]:\n",
    "    cax = ax[i+2]\n",
    "    ax[i+2].hist(infos[i]['a_c'], alpha=.8, label='a')\n",
    "    ax[i+2].hist(infos[i]['b_c'], alpha=.8, label='b')\n",
    "    #cax.grid(axis='x')\n",
    "    cax.grid(False)\n",
    "\n",
    "plt.legend()\n",
    "\n",
    "fig.text(0.5, .49, 'Unknown Compatibility', ha='center',size=14)\n",
    "fig.text(0.5, -.01, 'Known Compatibility', ha='center',size=14)\n",
    "\n",
    "fig.text(-.01, 0.75, 'Counts', va='center', rotation='vertical',size=14)\n",
    "fig.text(-.01, 0.25, 'Counts', va='center', rotation='vertical',size=14)\n",
    "\n",
    "for n, ax in enumerate(axs.flat):\n",
    "    ax.text(-0.15, 1.05, string.ascii_lowercase[n], transform=ax.transAxes, \n",
    "            size=14)\n",
    "    \n",
    "plt.tight_layout()\n"
   ]
  },
  {
   "cell_type": "code",
   "execution_count": 4,
   "metadata": {},
   "outputs": [
    {
     "data": {
      "image/png": "[encoded data removed]",
      "text/plain": [
       "<Figure size 432x216 with 1 Axes>"
      ]
     },
     "metadata": {
      "needs_background": "light"
     },
     "output_type": "display_data"
    }
   ],
   "source": [
    "\n",
    "\n",
    "# Plot as a compact box plot\n",
    "plt.figure(figsize=(6,3))\n",
    "# Create nice dataframe for seaborn: partition | compatibility (choose one type) | replicate\n",
    "acases = pd.DataFrame()\n",
    "for rep in [1,2,3]:\n",
    "    for part in ['a','b']:\n",
    "        casedf = infos[rep][f'{part}_uc']\n",
    "        casedf.name = 'compatibility'\n",
    "        casedf = casedf.to_frame()\n",
    "        casedf['partition'] = part\n",
    "        casedf['replicate'] = str(rep)\n",
    "        acases = acases.append(casedf)\n",
    "\n",
    "acases['compatibility'] = pd.to_numeric(acases['compatibility'])\n",
    "\n",
    "ax = sns.boxplot(x=\"replicate\", y=\"compatibility\", data=acases, hue=\"partition\")\n",
    "\n",
    "# Add number of observations\n",
    "nobs =  acases.groupby(['partition','replicate']).apply(lambda x: 'n: {}'.format(len(x)))\n",
    "\n",
    "for tick, label in enumerate(ax.get_xticklabels()):\n",
    "    ax_replicate = label.get_text()\n",
    "\n",
    "    for j, ax_partition in enumerate(ax.get_legend_handles_labels()[1]):\n",
    "        x_offset = (j - 0.5) * 2/5\n",
    "        med_val = 50 \n",
    "        num = nobs[ax_partition, ax_replicate]\n",
    "\n",
    "        ax.text(tick + x_offset, med_val + 0.1, num,\n",
    "                horizontalalignment='center', size=12, color='gray', weight='semibold')\n",
    "\n",
    "\n",
    "plt.yticks([0,10,20,30,40,50])\n",
    "sns.despine()\n",
    "plt.xlabel('Replicate')\n",
    "plt.ylabel('Unknown compatibility')\n",
    "plt.ylim(bottom=0)\n",
    "plt.savefig('compat_distrb.svgz')"
   ]
  },
  {
   "cell_type": "markdown",
   "metadata": {},
   "source": [
    "## Correlation between known and unkown compatibility"
   ]
  },
  {
   "cell_type": "code",
   "execution_count": 6,
   "metadata": {},
   "outputs": [
    {
     "data": {
      "image/png": "[encoded data removed]",
      "text/plain": [
       "<Figure size 432x180 with 3 Axes>"
      ]
     },
     "metadata": {},
     "output_type": "display_data"
    }
   ],
   "source": [
    "# In the top part do known compatibility distribution, in the bottom part unknown compatibility? \n",
    "# Do designs with high known compatibility tend to have lower known compatibility?\n",
    "sns.set_style(\"ticks\")\n",
    "ncols=3\n",
    "nrows=1\n",
    "fig, axs = plt.subplots(nrows=nrows, ncols=ncols, figsize=(6,2.5), sharey=True)\n",
    "ax = axs.flat\n",
    "\n",
    "plt.setp(axs, xticks=[0,10,20,30,40,50], yticks=[0,10,20,30,40,50])\n",
    "\n",
    "pal = sns.color_palette('pastel')\n",
    "pald = sns.color_palette('deep')\n",
    "for i in [1,2,3]:  \n",
    "    cax = ax[i-1]\n",
    "    x = infos[i]['a_uc'].append(infos[i]['b_uc'])\n",
    "    y = infos[i]['a_c'].append(infos[i]['b_c'])\n",
    "    cax.scatter(x,y, color=pal[4], edgecolors=pald[4])\n",
    "    cax.grid(False)\n",
    "    cax.set_xlim(left=0, right=50)\n",
    "    cax.set_ylim(bottom=0, top=50)\n",
    "    ## lines\n",
    "    sns.despine()\n",
    "    \n",
    "## save\n",
    "    #cax.tick_params(axis='both' , direction='in',length=10, width=2, which='major')  \n",
    "#for n, ax in enumerate(axs.flat):\n",
    "    #ax.set(adjustable='box', aspect='equal')\n",
    "    \n",
    "#plt.legend()\n",
    "fig.text(0.5, -.015, 'Known Compatibility', ha='center',size=14)\n",
    "fig.text(-.01, 0.5, 'Unkown compatibility', va='center', rotation='vertical',size=14)\n",
    "\n",
    "# Add correlation coefficients\n",
    "for n, ax in enumerate(axs.flat):\n",
    "    i = n+1\n",
    "    x = infos[i]['a_uc'].append(infos[i]['b_uc'])\n",
    "    y = infos[i]['a_c'].append(infos[i]['b_c'])\n",
    "    (srho,p) = spearmanr(x,y)\n",
    "    #(prho,p) = pearsonr(x,y)\n",
    "    ax.text(.1, .8, '$r^2$={:.2f}'.format(srho), transform=ax.transAxes, \n",
    "            size=14)\n",
    "\n",
    "# Add labels\n",
    "for n, ax in enumerate(axs.flat):\n",
    "    ax.text(-0.01, 1.05, '{}. Replicate {}'.format(string.ascii_lowercase[n+1],n+1), transform=ax.transAxes, \n",
    "            size=16)\n",
    "    \n",
    "plt.tight_layout()\n",
    "\n",
    "plt.savefig('compat_correl.svgz')"
   ]
  },
  {
   "cell_type": "markdown",
   "metadata": {},
   "source": [
    "## Top 3 designs with the most unkown compatibility for each case?\n",
    "\n",
    "Estimate contribution of reaction deletions to unkown compatibility:\n",
    "\n",
    "uc contribution of Ri = sum of uc in designs where Ri appears / total designs \n"
   ]
  },
  {
   "cell_type": "code",
   "execution_count": 96,
   "metadata": {},
   "outputs": [
    {
     "data": {
      "text/html": [
       "<div>\n",
       "<style scoped>\n",
       "    .dataframe tbody tr th:only-of-type {\n",
       "        vertical-align: middle;\n",
       "    }\n",
       "\n",
       "    .dataframe tbody tr th {\n",
       "        vertical-align: top;\n",
       "    }\n",
       "\n",
       "    .dataframe thead th {\n",
       "        text-align: right;\n",
       "    }\n",
       "</style>\n",
       "<table border=\"1\" class=\"dataframe\">\n",
       "  <thead>\n",
       "    <tr style=\"text-align: right;\">\n",
       "      <th></th>\n",
       "      <th>id</th>\n",
       "      <th>1</th>\n",
       "      <th>2</th>\n",
       "      <th>3</th>\n",
       "      <th>mean</th>\n",
       "    </tr>\n",
       "  </thead>\n",
       "  <tbody>\n",
       "    <tr>\n",
       "      <th>44</th>\n",
       "      <td>LDH_D</td>\n",
       "      <td>13.216418</td>\n",
       "      <td>10.546243</td>\n",
       "      <td>11.927039</td>\n",
       "      <td>11.896566</td>\n",
       "    </tr>\n",
       "    <tr>\n",
       "      <th>38</th>\n",
       "      <td>ALCD2x</td>\n",
       "      <td>11.470149</td>\n",
       "      <td>10.465318</td>\n",
       "      <td>11.824034</td>\n",
       "      <td>11.253167</td>\n",
       "    </tr>\n",
       "    <tr>\n",
       "      <th>172</th>\n",
       "      <td>PTAr</td>\n",
       "      <td>3.951493</td>\n",
       "      <td>4.832370</td>\n",
       "      <td>6.450644</td>\n",
       "      <td>5.078169</td>\n",
       "    </tr>\n",
       "    <tr>\n",
       "      <th>65</th>\n",
       "      <td>ACALD</td>\n",
       "      <td>4.496269</td>\n",
       "      <td>2.789017</td>\n",
       "      <td>2.939914</td>\n",
       "      <td>3.408400</td>\n",
       "    </tr>\n",
       "    <tr>\n",
       "      <th>118</th>\n",
       "      <td>THD2pp</td>\n",
       "      <td>4.667910</td>\n",
       "      <td>2.439306</td>\n",
       "      <td>2.193133</td>\n",
       "      <td>3.100117</td>\n",
       "    </tr>\n",
       "  </tbody>\n",
       "</table>\n",
       "</div>"
      ],
      "text/plain": [
       "         id          1          2          3       mean\n",
       "44    LDH_D  13.216418  10.546243  11.927039  11.896566\n",
       "38   ALCD2x  11.470149  10.465318  11.824034  11.253167\n",
       "172    PTAr   3.951493   4.832370   6.450644   5.078169\n",
       "65    ACALD   4.496269   2.789017   2.939914   3.408400\n",
       "118  THD2pp   4.667910   2.439306   2.193133   3.100117"
      ]
     },
     "execution_count": 96,
     "metadata": {},
     "output_type": "execute_result"
    }
   ],
   "source": [
    "# Get list of possible deletions\n",
    "def get_del(del_series):\n",
    "    deletions = []\n",
    "    for dels in del_series:\n",
    "        deletions.extend(dels.split(', '))\n",
    "    return set(deletions) \n",
    "\n",
    "uniqdel = set()\n",
    "for i in [1,2,3]: \n",
    "    dela = get_del(infos[i]['afpf']['Deletion_id'])\n",
    "    delb = get_del(infos[i]['bfpf']['Deletion_id'])\n",
    "    uniqdel = uniqdel.union(dela).union(delb)\n",
    "\n",
    "\n",
    "# Obtain contributions:\n",
    "def obtain_contrib(rxn_id, deldf):\n",
    "    contrib = 0\n",
    "    for idx,row in deldf.iterrows():\n",
    "        if rxn_id in row['Deletion_id'].split(', '):\n",
    "            contrib = contrib + row['uc']\n",
    "    return contrib/deldf.shape[0]\n",
    "\n",
    "\n",
    "contrib = pd.DataFrame()\n",
    "contrib['id'] = list(uniqdel)\n",
    "\n",
    "for i in [1,2,3]:\n",
    "    dfa = pd.concat([infos[i]['afpf']['Deletion_id'],infos[i]['a_uc']])\n",
    "    auc = infos[i]['a_uc']\n",
    "    auc.name = 'uc'\n",
    "    dfa = pd.concat([infos[i]['afpf']['Deletion_id'],auc], axis=1)\n",
    "    \n",
    "    buc = infos[i]['b_uc']\n",
    "    buc.name = 'uc'\n",
    "    bfa = pd.concat([infos[i]['bfpf']['Deletion_id'],buc], axis=1)\n",
    "    \n",
    "    deldf = pd.concat([dfa,bfa])\n",
    "    contrib[i] = contrib['id'].map(lambda x: obtain_contrib(x, deldf))\n",
    "\n",
    "contrib['mean'] = contrib.mean(axis=1)\n",
    "contrib = contrib.sort_values(by='mean', ascending=False)\n",
    "contrib.head(10)"
   ]
  },
  {
   "cell_type": "code",
   "execution_count": 115,
   "metadata": {},
   "outputs": [],
   "source": [
    "# Add some useful info and write table out\n",
    "# Utility functions\n",
    "def write_table(name, dataframe, index=False):\n",
    "    pd.set_option('display.max_colwidth', -1) # Avoid truncating strings\n",
    "    with open(name, 'w') as tf:\n",
    "        tf.write(dataframe.to_latex(index=index).replace('-->',r'$\\rightarrow$').replace('<==>',r'$\\leftrightarrow$'))\n",
    "\n",
    "    pd.options.display.float_format = '{:.1f}'.format\n",
    "\n",
    "rxn_info = pd.read_csv(f'{ANALYSIS_DIR}/native/rxns.tsv',delimiter='\\t',index_col='id')\n",
    "\n",
    "tout = contrib.set_index('id').join(rxn_info)\n",
    "tout = tout.iloc[0:10,[4,0,1,2,3]]\n",
    "\n",
    "#df = df[['mean', '0', '1', '2', '3']]\n",
    "write_table('uc_contrib.tex', tout,index=True)"
   ]
  },
  {
   "cell_type": "code",
   "execution_count": 113,
   "metadata": {},
   "outputs": [
    {
     "name": "stdout",
     "output_type": "stream",
     "text": [
      "/home/sg/wrk/s/matlab/modcell-hpc-study/analysis/partitions\n"
     ]
    }
   ],
   "source": [
    "cd partitions/"
   ]
  },
  {
   "cell_type": "code",
   "execution_count": null,
   "metadata": {},
   "outputs": [],
   "source": []
  }
 ],
 "metadata": {
  "kernelspec": {
   "display_name": "modcell-analysis",
   "language": "python",
   "name": "modcell-analysis"
  },
  "language_info": {
   "codemirror_mode": {
    "name": "ipython",
    "version": 3
   },
   "file_extension": ".py",
   "mimetype": "text/x-python",
   "name": "python",
   "nbconvert_exporter": "python",
   "pygments_lexer": "ipython3",
   "version": "3.8.1"
  }
 },
 "nbformat": 4,
 "nbformat_minor": 4
}
